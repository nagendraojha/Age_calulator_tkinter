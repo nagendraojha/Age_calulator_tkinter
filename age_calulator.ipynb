{
 "cells": [
  {
   "cell_type": "code",
   "execution_count": null,
   "id": "eb27c0b2-63a1-4104-8dab-9dcde73c6675",
   "metadata": {},
   "outputs": [],
   "source": []
  },
  {
   "cell_type": "code",
   "execution_count": null,
   "id": "df38f9ce-b77e-426f-a3d2-e689dff22863",
   "metadata": {},
   "outputs": [],
   "source": []
  },
  {
   "cell_type": "code",
   "execution_count": null,
   "id": "f6e240da-48dd-4b5c-ae0a-097b2552e502",
   "metadata": {},
   "outputs": [],
   "source": []
  },
  {
   "cell_type": "code",
   "execution_count": null,
   "id": "5729ba97-65f1-4fc8-99fb-d3bd9ab23f03",
   "metadata": {},
   "outputs": [],
   "source": []
  },
  {
   "cell_type": "code",
   "execution_count": 27,
   "id": "103e8cd6-ab62-40a7-8cb2-6646d0147d38",
   "metadata": {},
   "outputs": [],
   "source": [
    "from tkinter import *\n",
    "from datetime import date\n",
    "\n",
    "# initialized window\n",
    "root = Tk()\n",
    "root.geometry('280x300')\n",
    "root.resizable(0, 0)\n",
    "root.title('Age Calculator')\n",
    "statement = Label(root)\n",
    "\n",
    "# defining the function for calculating age\n",
    "\n",
    "\n",
    "def ageCalc():\n",
    "    global statement\n",
    "    statement.destroy()\n",
    "    today = date.today()\n",
    "    birthDate = date(int(yearEntry.get()), int(\n",
    "        monthEntry.get()), int(dayEntry.get()))\n",
    "    age = today.year - birthDate.year\n",
    "    if today.month < birthDate.month or today.month == birthDate.month and today.day < birthDate.day:\n",
    "        age -= 1\n",
    "    statement = Label(text=f\"{nameValue.get()}'s age is {age}.\")\n",
    "    statement.grid(row=6, column=1, pady=15)\n",
    "\n",
    "\n",
    "# creating a label for person's name to display\n",
    "l1 = Label(text=\"Name: \")\n",
    "l1.grid(row=1, column=0)\n",
    "nameValue = StringVar()\n",
    "\n",
    "# creating a entry box for input\n",
    "nameEntry = Entry(root, textvariable=nameValue)\n",
    "nameEntry.grid(row=1, column=1, padx=10, pady=10)\n",
    "\n",
    "# label for year in which user was born\n",
    "l2 = Label(text=\"Year: \")\n",
    "l2.grid(row=2, column=0)\n",
    "yearValue = StringVar()\n",
    "yearEntry = Entry(root, textvariable=yearValue)\n",
    "yearEntry.grid(row=2, column=1, padx=10, pady=10)\n",
    "\n",
    "# label for month in which user was born\n",
    "l3 = Label(text=\"Month: \")\n",
    "l3.grid(row=3, column=0)\n",
    "monthValue = StringVar()\n",
    "monthEntry = Entry(root, textvariable=monthValue)\n",
    "monthEntry.grid(row=3, column=1, padx=10, pady=10)\n",
    "\n",
    "# label for day/date on which user was born\n",
    "l4 = Label(text=\"Day: \")\n",
    "l4.grid(row=4, column=0)\n",
    "dayValue = StringVar()\n",
    "dayEntry = Entry(root, textvariable=dayValue)\n",
    "dayEntry.grid(row=4, column=1, padx=10, pady=10)\n",
    "\n",
    "# create a button for calculating age\n",
    "button = Button(text=\"Calculate age\", command=ageCalc)\n",
    "button.grid(row=5, column=1)\n",
    "\n",
    "# infinite loop to run program\n",
    "root.mainloop()\n"
   ]
  },
  {
   "cell_type": "code",
   "execution_count": null,
   "id": "7936f51e-291e-4c63-937c-e8c65bce1e35",
   "metadata": {},
   "outputs": [],
   "source": []
  },
  {
   "cell_type": "code",
   "execution_count": null,
   "id": "46723171-2ed3-4c82-96dd-ce459acd85b7",
   "metadata": {},
   "outputs": [],
   "source": []
  },
  {
   "cell_type": "code",
   "execution_count": null,
   "id": "61526cda-f3e0-484a-887d-26f343d5c3cc",
   "metadata": {},
   "outputs": [],
   "source": []
  },
  {
   "cell_type": "code",
   "execution_count": null,
   "id": "7691e135-674e-4488-b47e-4fe3a4e573b3",
   "metadata": {},
   "outputs": [],
   "source": []
  },
  {
   "cell_type": "code",
   "execution_count": null,
   "id": "de56d00c-89b1-43ca-8e3a-6ca09d1ae68b",
   "metadata": {},
   "outputs": [],
   "source": []
  },
  {
   "cell_type": "code",
   "execution_count": null,
   "id": "a3cc12c4-e2d9-49c7-973c-15f0bef7f3db",
   "metadata": {},
   "outputs": [],
   "source": []
  },
  {
   "cell_type": "code",
   "execution_count": null,
   "id": "e38f666f-8ad8-474b-bf35-253eef66b9f7",
   "metadata": {},
   "outputs": [],
   "source": []
  },
  {
   "cell_type": "code",
   "execution_count": null,
   "id": "69e8b0ff-0ab4-4264-9b27-a4254b59ece8",
   "metadata": {},
   "outputs": [],
   "source": []
  },
  {
   "cell_type": "code",
   "execution_count": null,
   "id": "823ca35e-a049-4f73-945a-4368a0f54433",
   "metadata": {},
   "outputs": [],
   "source": []
  },
  {
   "cell_type": "code",
   "execution_count": null,
   "id": "c708ffe1-c9d2-45a7-8817-ebe5f359c068",
   "metadata": {},
   "outputs": [],
   "source": []
  },
  {
   "cell_type": "code",
   "execution_count": null,
   "id": "6b7adb2a-6bb2-4c72-8f3b-789094f2cd6e",
   "metadata": {},
   "outputs": [],
   "source": []
  },
  {
   "cell_type": "code",
   "execution_count": null,
   "id": "601e2eab-1c76-476d-bb3f-a415bd9fa272",
   "metadata": {},
   "outputs": [],
   "source": []
  },
  {
   "cell_type": "code",
   "execution_count": null,
   "id": "8a54ce9d-80af-44ae-b213-673232847405",
   "metadata": {},
   "outputs": [],
   "source": []
  },
  {
   "cell_type": "code",
   "execution_count": null,
   "id": "ceaef794-0155-4602-84dc-421a4cac9206",
   "metadata": {},
   "outputs": [],
   "source": []
  },
  {
   "cell_type": "code",
   "execution_count": null,
   "id": "ed38c167-39b8-49a0-8369-2f39d570c38e",
   "metadata": {},
   "outputs": [],
   "source": []
  },
  {
   "cell_type": "code",
   "execution_count": null,
   "id": "59d1809a-63fa-47ab-90fc-f2d6e62dbe09",
   "metadata": {},
   "outputs": [],
   "source": []
  },
  {
   "cell_type": "code",
   "execution_count": null,
   "id": "89f58f3a-a58e-4e27-83f5-7f847d7bd196",
   "metadata": {},
   "outputs": [],
   "source": []
  },
  {
   "cell_type": "code",
   "execution_count": null,
   "id": "405f8b63-2c9d-4e89-97e6-1c06a15763a9",
   "metadata": {},
   "outputs": [],
   "source": []
  },
  {
   "cell_type": "code",
   "execution_count": null,
   "id": "da20766a-1389-4e4b-b431-76903b46eaf2",
   "metadata": {},
   "outputs": [],
   "source": []
  },
  {
   "cell_type": "code",
   "execution_count": null,
   "id": "cdbfa63b-3e42-4ce9-875b-a1f7d10e1012",
   "metadata": {},
   "outputs": [],
   "source": []
  },
  {
   "cell_type": "code",
   "execution_count": null,
   "id": "5aeb64c4-0045-4ed2-9a29-2b96103b81a7",
   "metadata": {},
   "outputs": [],
   "source": []
  },
  {
   "cell_type": "code",
   "execution_count": null,
   "id": "049a8786-559d-40ed-8784-de2892e5d557",
   "metadata": {},
   "outputs": [],
   "source": []
  }
 ],
 "metadata": {
  "kernelspec": {
   "display_name": "Python [conda env:base] *",
   "language": "python",
   "name": "conda-base-py"
  },
  "language_info": {
   "codemirror_mode": {
    "name": "ipython",
    "version": 3
   },
   "file_extension": ".py",
   "mimetype": "text/x-python",
   "name": "python",
   "nbconvert_exporter": "python",
   "pygments_lexer": "ipython3",
   "version": "3.12.7"
  }
 },
 "nbformat": 4,
 "nbformat_minor": 5
}
